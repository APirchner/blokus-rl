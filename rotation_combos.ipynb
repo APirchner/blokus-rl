{
 "cells": [
  {
   "cell_type": "code",
   "execution_count": 1,
   "metadata": {},
   "outputs": [],
   "source": [
    "from itertools import product\n",
    "\n",
    "import numpy as np\n",
    "\n",
    "from blokus_rl.components.piece_config import PIECE_CONFIG"
   ]
  },
  {
   "cell_type": "code",
   "execution_count": 2,
   "metadata": {},
   "outputs": [],
   "source": [
    "p = PIECE_CONFIG['N']"
   ]
  },
  {
   "cell_type": "code",
   "execution_count": 3,
   "metadata": {},
   "outputs": [],
   "source": [
    "rotations = {\n",
    "    '90': lambda x: np.rot90(x, k=1, axes=(0, 1)),\n",
    "    '180': lambda x: np.rot90(x, k=2, axes=(0, 1)),\n",
    "    '270': lambda x: np.rot90(x, k=3, axes=(0, 1))}\n",
    "flips = {'flip_h': lambda x: np.flipud(x), 'flip_v': lambda x: np.fliplr(x)}\n",
    "\n",
    "all_rot = {}\n",
    "\n",
    "for r in rotations.keys():\n",
    "    if str(r) != str(p.shape):\n",
    "        all_rot[r] = rotations[r](p.shape)\n",
    "\n",
    "for f, r in product(flips.keys(), rotations.keys()):\n",
    "    if str(r) != str(p.shape):\n",
    "        all_rot[f + '_' + r] = rotations[r](flips[f](p.shape))"
   ]
  },
  {
   "cell_type": "code",
   "execution_count": 4,
   "metadata": {},
   "outputs": [],
   "source": [
    "groups = {str(r): [] for k, r in all_rot.items()}\n",
    "for k, r in all_rot.items():\n",
    "    if str(r) != str(p.shape):\n",
    "        groups[str(r)].append(k)"
   ]
  },
  {
   "cell_type": "code",
   "execution_count": 5,
   "metadata": {},
   "outputs": [
    {
     "data": {
      "text/plain": [
       "{'[[1 0]\\n [1 0]\\n [1 1]\\n [0 1]]': ['90'],\n",
       " '[[0 0 1 1]\\n [1 1 1 0]]': ['180'],\n",
       " '[[1 0]\\n [1 1]\\n [0 1]\\n [0 1]]': ['270'],\n",
       " '[[0 1]\\n [0 1]\\n [1 1]\\n [1 0]]': ['flip_h_90', 'flip_v_270'],\n",
       " '[[1 1 1 0]\\n [0 0 1 1]]': ['flip_h_180'],\n",
       " '[[0 1]\\n [1 1]\\n [1 0]\\n [1 0]]': ['flip_h_270', 'flip_v_90'],\n",
       " '[[1 1 0 0]\\n [0 1 1 1]]': ['flip_v_180']}"
      ]
     },
     "execution_count": 5,
     "metadata": {},
     "output_type": "execute_result"
    }
   ],
   "source": [
    "groups"
   ]
  }
 ],
 "metadata": {
  "kernelspec": {
   "display_name": "blokus-rl",
   "language": "python",
   "name": "blokus-rl"
  },
  "language_info": {
   "codemirror_mode": {
    "name": "ipython",
    "version": 3
   },
   "file_extension": ".py",
   "mimetype": "text/x-python",
   "name": "python",
   "nbconvert_exporter": "python",
   "pygments_lexer": "ipython3",
   "version": "3.10.5"
  }
 },
 "nbformat": 4,
 "nbformat_minor": 4
}
